{
 "cells": [
  {
   "cell_type": "code",
   "execution_count": 15,
   "id": "c361922b",
   "metadata": {},
   "outputs": [],
   "source": [
    "import numpy as np\n",
    "import matplotlib.pyplot as plt\n",
    "import flammkuchen as fl"
   ]
  },
  {
   "cell_type": "code",
   "execution_count": 2,
   "id": "d6fe6e61",
   "metadata": {},
   "outputs": [],
   "source": [
    "data = fl.load(\"rectanglesdsss.sec\")"
   ]
  },
  {
   "cell_type": "code",
   "execution_count": 3,
   "id": "2da027d5",
   "metadata": {},
   "outputs": [
    {
     "data": {
      "text/plain": [
       "dict_keys(['ground_truth', 'predicted'])"
      ]
     },
     "execution_count": 3,
     "metadata": {},
     "output_type": "execute_result"
    }
   ],
   "source": [
    "data.keys()"
   ]
  },
  {
   "cell_type": "code",
   "execution_count": 4,
   "id": "ddac6ecc",
   "metadata": {},
   "outputs": [],
   "source": [
    "ground_truth = data[\"ground_truth\"]\n",
    "predicted = data[\"predicted\"]\n"
   ]
  },
  {
   "cell_type": "code",
   "execution_count": 5,
   "id": "6a3ce588",
   "metadata": {},
   "outputs": [
    {
     "name": "stdout",
     "output_type": "stream",
     "text": [
      "(1.2230114285248028, 3.172476462256429, 19.18975507295538, 1.494912895018739)\n",
      "(3.829752495520566, 1.570699524685456, 18.371431652453644, 2.8901173804855285)\n"
     ]
    }
   ],
   "source": [
    "print(ground_truth[0])\n",
    "print(predicted[0])"
   ]
  },
  {
   "cell_type": "code",
   "execution_count": 6,
   "id": "b2125fef",
   "metadata": {},
   "outputs": [
    {
     "data": {
      "text/plain": [
       "100"
      ]
     },
     "execution_count": 6,
     "metadata": {},
     "output_type": "execute_result"
    }
   ],
   "source": [
    "len(predicted)"
   ]
  },
  {
   "cell_type": "code",
   "execution_count": 7,
   "id": "2f6911bf",
   "metadata": {},
   "outputs": [],
   "source": [
    "class rectangle:\n",
    "    def __init__(self,xmin,ymin,width,height):\n",
    "        self.xmin = xmin\n",
    "        self.ymin = ymin\n",
    "        self.width = width\n",
    "        self.height = height\n",
    "        self.xmax = xmin + width\n",
    "        self.ymax = ymin + height\n",
    "        self.area = height*width\n",
    "def calculate_intersect_area(rect1, rect2):  # returns None if rectangles don't intersect\n",
    "    dx = min(rect1.xmax, rect2.xmax) - max(rect1.xmin, rect2.xmin)\n",
    "    dy = min(rect1.ymax, rect2.ymax) - max(rect1.ymin, rect2.ymin)\n",
    "    if (dx>=0) and (dy>=0):\n",
    "        return dx*dy\n",
    "    else:\n",
    "        return 0\n",
    "def calculate_union_area(intersect_area,rect1,rect2):\n",
    "    rect1_area =  rect1.area\n",
    "    rect2_area = rect2.area\n",
    "    union_area = rect1_area + rect2_area - intersect_area\n",
    "    return union_area\n",
    "    \n",
    "def calculate_iou(rect1,rect2):\n",
    "    intersect_area = calculate_intersect_area(rect1, rect2)\n",
    "    union_area = calculate_union_area(intersect_area,rect1,rect2)\n",
    "    iou = np.array([intersect_area/union_area])\n",
    "    return iou\n",
    "    "
   ]
  },
  {
   "cell_type": "code",
   "execution_count": 13,
   "id": "822b4220",
   "metadata": {},
   "outputs": [],
   "source": [
    "iou_array = np.array([])\n",
    "for item1,item2 in zip(ground_truth,predicted):\n",
    "    rect1 = rectangle(item1[0],item1[1],item1[2],item1[3])\n",
    "    rect2 = rectangle(item2[0],item2[1],item2[2],item2[3])\n",
    "    iou = calculate_iou(rect1,rect2)\n",
    "    iou_array = np.concatenate((iou_array,iou),axis=0)\n",
    "    "
   ]
  },
  {
   "cell_type": "code",
   "execution_count": 63,
   "id": "70451534",
   "metadata": {},
   "outputs": [],
   "source": [
    "rect1 = rectangle(ground_truth[0][0],ground_truth[0][1],ground_truth[0][2],ground_truth[0][3])\n",
    "rect2 = rectangle(predicted[0][0],predicted[0][1],predicted[0][2],predicted[0][3])\n",
    "iou = calculate_iou(rect1,rect2)"
   ]
  },
  {
   "cell_type": "code",
   "execution_count": 29,
   "id": "e320851a",
   "metadata": {},
   "outputs": [],
   "source": [
    "iou_array = iou_array.round(3)"
   ]
  },
  {
   "cell_type": "code",
   "execution_count": 30,
   "id": "c2b8abcc",
   "metadata": {},
   "outputs": [
    {
     "data": {
      "text/plain": [
       "array([0.354, 0.11 , 0.518, 0.481, 0.066, 0.299, 0.145, 0.074, 0.185,\n",
       "       0.127, 0.453, 0.439, 0.138, 0.19 , 0.138, 0.096, 0.131, 0.001,\n",
       "       0.394, 0.309, 0.012, 0.15 , 0.653, 0.035, 0.   , 0.262, 0.267,\n",
       "       0.198, 0.118, 0.171, 0.056, 0.425, 0.079, 0.066, 0.35 , 0.379,\n",
       "       0.   , 0.331, 0.063, 0.116, 0.   , 0.488, 0.   , 0.475, 0.381,\n",
       "       0.455, 0.185, 0.075, 0.364, 0.   , 0.12 , 0.18 , 0.421, 0.255,\n",
       "       0.146, 0.192, 0.289, 0.37 , 0.371, 0.055, 0.   , 0.678, 0.   ,\n",
       "       0.116, 0.219, 0.383, 0.223, 0.157, 0.227, 0.176, 0.231, 0.053,\n",
       "       0.029, 0.   , 0.057, 0.246, 0.517, 0.42 , 0.042, 0.209, 0.161,\n",
       "       0.182, 0.166, 0.   , 0.198, 0.25 , 0.114, 0.075, 0.22 , 0.282,\n",
       "       0.371, 0.168, 0.228, 0.39 , 0.06 , 0.138, 0.191, 0.177, 0.162,\n",
       "       0.545])"
      ]
     },
     "execution_count": 30,
     "metadata": {},
     "output_type": "execute_result"
    }
   ],
   "source": [
    "iou_array"
   ]
  },
  {
   "cell_type": "code",
   "execution_count": 31,
   "id": "2afe52d3",
   "metadata": {},
   "outputs": [],
   "source": [
    "unique_values, counts = np.unique(iou_array, return_counts=True)"
   ]
  },
  {
   "cell_type": "code",
   "execution_count": 34,
   "id": "c252fece",
   "metadata": {},
   "outputs": [
    {
     "data": {
      "text/plain": [
       "array([0.   , 0.001, 0.012, 0.029, 0.035, 0.042, 0.053, 0.055, 0.056,\n",
       "       0.057, 0.06 , 0.063, 0.066, 0.074, 0.075, 0.079, 0.096, 0.11 ,\n",
       "       0.114, 0.116, 0.118, 0.12 , 0.127, 0.131, 0.138, 0.145, 0.146,\n",
       "       0.15 , 0.157, 0.161, 0.162, 0.166, 0.168, 0.171, 0.176, 0.177,\n",
       "       0.18 , 0.182, 0.185, 0.19 , 0.191, 0.192, 0.198, 0.209, 0.219,\n",
       "       0.22 , 0.223, 0.227, 0.228, 0.231, 0.246, 0.25 , 0.255, 0.262,\n",
       "       0.267, 0.282, 0.289, 0.299, 0.309, 0.331, 0.35 , 0.354, 0.364,\n",
       "       0.37 , 0.371, 0.379, 0.381, 0.383, 0.39 , 0.394, 0.42 , 0.421,\n",
       "       0.425, 0.439, 0.453, 0.455, 0.475, 0.481, 0.488, 0.517, 0.518,\n",
       "       0.545, 0.653, 0.678])"
      ]
     },
     "execution_count": 34,
     "metadata": {},
     "output_type": "execute_result"
    }
   ],
   "source": [
    "unique_values"
   ]
  },
  {
   "cell_type": "code",
   "execution_count": null,
   "id": "4d8dbffe",
   "metadata": {},
   "outputs": [],
   "source": []
  }
 ],
 "metadata": {
  "kernelspec": {
   "display_name": "Python 3 (ipykernel)",
   "language": "python",
   "name": "python3"
  },
  "language_info": {
   "codemirror_mode": {
    "name": "ipython",
    "version": 3
   },
   "file_extension": ".py",
   "mimetype": "text/x-python",
   "name": "python",
   "nbconvert_exporter": "python",
   "pygments_lexer": "ipython3",
   "version": "3.10.9"
  }
 },
 "nbformat": 4,
 "nbformat_minor": 5
}
