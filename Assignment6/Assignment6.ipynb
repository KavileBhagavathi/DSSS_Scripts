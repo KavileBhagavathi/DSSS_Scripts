{
 "cells": [
  {
   "cell_type": "code",
   "execution_count": 14,
   "id": "c361922b",
   "metadata": {},
   "outputs": [],
   "source": [
    "import numpy as np\n",
    "import h5py"
   ]
  },
  {
   "cell_type": "code",
   "execution_count": 94,
   "id": "d6fe6e61",
   "metadata": {},
   "outputs": [
    {
     "data": {
      "text/plain": [
       "['ground_truth', 'predicted']"
      ]
     },
     "execution_count": 94,
     "metadata": {},
     "output_type": "execute_result"
    }
   ],
   "source": [
    "hf = h5py.File('rectanglesdsss.sec', 'r')\n",
    "list(hf.keys())"
   ]
  },
  {
   "cell_type": "code",
   "execution_count": 57,
   "id": "2da027d5",
   "metadata": {},
   "outputs": [],
   "source": [
    "ground_truth_df = np.array(hf[\"ground_truth\"])\n",
    "predicted_df = np.array(hf[\"predicted\"])"
   ]
  },
  {
   "cell_type": "code",
   "execution_count": 100,
   "id": "ddac6ecc",
   "metadata": {},
   "outputs": [
    {
     "data": {
      "text/plain": [
       "'i99'"
      ]
     },
     "execution_count": 100,
     "metadata": {},
     "output_type": "execute_result"
    }
   ],
   "source": [
    "max(hf[\"ground_truth\"])"
   ]
  },
  {
   "cell_type": "code",
   "execution_count": 101,
   "id": "6a3ce588",
   "metadata": {},
   "outputs": [
    {
     "data": {
      "text/plain": [
       "<HDF5 group \"/predicted\" (100 members)>"
      ]
     },
     "execution_count": 101,
     "metadata": {},
     "output_type": "execute_result"
    }
   ],
   "source": [
    "hf[\"predicted\"]"
   ]
  },
  {
   "cell_type": "code",
   "execution_count": null,
   "id": "2f6911bf",
   "metadata": {},
   "outputs": [],
   "source": []
  }
 ],
 "metadata": {
  "kernelspec": {
   "display_name": "Python 3 (ipykernel)",
   "language": "python",
   "name": "python3"
  },
  "language_info": {
   "codemirror_mode": {
    "name": "ipython",
    "version": 3
   },
   "file_extension": ".py",
   "mimetype": "text/x-python",
   "name": "python",
   "nbconvert_exporter": "python",
   "pygments_lexer": "ipython3",
   "version": "3.10.9"
  }
 },
 "nbformat": 4,
 "nbformat_minor": 5
}
